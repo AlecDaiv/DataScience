{
 "cells": [
  {
   "cell_type": "code",
   "execution_count": 1,
   "metadata": {},
   "outputs": [],
   "source": [
    "import numpy\n",
    "import scipy.special\n",
    "import matplotlib.pyplot as plt\n",
    "%matplotlib inline"
   ]
  },
  {
   "cell_type": "code",
   "execution_count": 59,
   "metadata": {},
   "outputs": [],
   "source": [
    "#Neural network class definition\n",
    "\"\"\"\n",
    "\n",
    "\"\"\"\n",
    "\n",
    "class neuralNetwork:\n",
    "    def __init__(self,inputNodes,hiddenNodes,hiddenNodesTwo,outputNodes,learningRate):\n",
    "        #nodes\n",
    "        self.inputNodes = inputNodes\n",
    "        self.hiddenNodes = hiddenNodes\n",
    "        self.hiddenNodesTwo = hiddenNodesTwo\n",
    "        self.outputNodes = outputNodes\n",
    "\n",
    "        #parameters\n",
    "        self.learningRate = learningRate\n",
    "\n",
    "        #Weights\n",
    "        self.wih = numpy.random.normal(0.0,pow(self.inputNodes,-0.5),(self.hiddenNodes,self.inputNodes))\n",
    "        self.whh = numpy.random.normal(0.0,pow(self.hiddenNodes,-0.5),(self.hiddenNodesTwo,self.hiddenNodes))\n",
    "        self.who = numpy.random.normal(0.0,pow(self.hiddenNodesTwo,-0.5),(self.outputNodes,self.hiddenNodesTwo))\n",
    "\n",
    "        #initialization functions\n",
    "        self.activation_function = lambda x: scipy.special.expit(x)\n",
    "\n",
    "        \n",
    "    ## train the network    \n",
    "    def train(self, inputs_list, targets_list):\n",
    "        inputs = numpy.array(inputs_list,ndmin=2).T\n",
    "        targets = numpy.array(targets_list,ndmin=2).T  \n",
    "\n",
    "        hidden_inputs = numpy.dot(self.wih,inputs)  \n",
    "        hidden_outputs = self.activation_function(hidden_inputs)\n",
    "\n",
    "        hidden_two_inputs = numpy.dot(self.whh,hidden_outputs)  \n",
    "        hidden_two_outputs = self.activation_function(hidden_two_inputs)        \n",
    "\n",
    "        final_inputs = numpy.dot(self.who,hidden_two_outputs)  \n",
    "        final_outputs = self.activation_function(final_inputs)\n",
    "\n",
    "        output_errors = targets - final_outputs\n",
    "        hidden_two_errors = numpy.dot(self.who.T,output_errors)\n",
    "        hidden_errors = numpy.dot(self.whh.T,hidden_two_errors)\n",
    "\n",
    "\n",
    "\n",
    "\n",
    "\n",
    "        #update weights for links between the hidden layer and the output layers\n",
    "        self.who += self.learningRate * numpy.dot((output_errors*final_outputs*(1.0 - final_outputs)),numpy.transpose(hidden_two_outputs))\n",
    "\n",
    "\n",
    "        #update weights for links between 1st hidden and 2nd hidden layers\n",
    "        self.whh += self.learningRate * numpy.dot((hidden_two_errors*hidden_two_outputs*(1.0 - hidden_two_outputs)),numpy.transpose(hidden_outputs))\n",
    "\n",
    "        \n",
    "        #update weights for links between the input layer and the hidden layers\n",
    "        self.wih += self.learningRate * numpy.dot((hidden_errors*hidden_outputs*(1.0 - hidden_outputs)),numpy.transpose(inputs))\n",
    "\n",
    "\n",
    "    ##calculate forward feed\n",
    "    def query(self, inputs_list):\n",
    "        inputs = numpy.array(inputs_list,ndmin=2).T \n",
    "\n",
    "        hidden_inputs = numpy.dot(self.wih,inputs)  \n",
    "        hidden_outputs = self.activation_function(hidden_inputs)\n",
    "\n",
    "        hidden_two_inputs = numpy.dot(self.whh,hidden_outputs)  \n",
    "        hidden_two_outputs = self.activation_function(hidden_two_inputs)\n",
    "\n",
    "        final_inputs = numpy.dot(self.who,hidden_two_outputs)  \n",
    "        final_outputs = self.activation_function(final_inputs)\n",
    "\n",
    "        return final_outputs"
   ]
  },
  {
   "cell_type": "code",
   "execution_count": 78,
   "metadata": {},
   "outputs": [],
   "source": [
    "#define a Neural network model\n",
    "class model:\n",
    "    #Initialize a NN object\n",
    "    def __init__(self,inputNodes,hiddenNodes,hiddenNodesTwo,outputNodes,learningRate): \n",
    "        self.outputNodes = outputNodes\n",
    "        self.nn = neuralNetwork(inputNodes,hiddenNodes,hiddenNodesTwo,outputNodes,learningRate)\n",
    "    \n",
    "        #train with a desired data set \n",
    "        #todo: split 1st parameter into training and target, epochs\n",
    "    def train(self,train_list,epochs):\n",
    "        for e in range(epochs):\n",
    "            for data in train_list:\n",
    "                all_values = data.split(',')\n",
    "                #scale imputs form 0-255 to 0.01 - 0.99 todo: remove data prep state for more general use\n",
    "                scaled_input = (numpy.asfarray(all_values[1:])/255 * 0.99) + 0.01\n",
    "                #create array of zeros for targets with length out total output nodes\n",
    "                targets = numpy.zeros(self.outputNodes) + 0.01\n",
    "                targets[int(all_values[0])] = 0.99\n",
    "                #train neural network\n",
    "                self.nn.train(scaled_input,targets)\n",
    "     \n",
    "\n",
    "    #score\n",
    "    #todo: score should have test list and targets seperate\n",
    "    #todo: remove scaling, should be done outside             \n",
    "    def score(self,test_list):\n",
    "        scorecard = [0,0]\n",
    "        for obj in test_list:\n",
    "            all_values = obj.split(',')\n",
    "            target_labels = int(all_values[0])\n",
    "            \n",
    "            scaled_input = (numpy.asfarray(all_values[1:])/255 * 0.99) + 0.01\n",
    "            outputs = self.nn.query(scaled_input)\n",
    "            label = numpy.argmax(outputs)\n",
    "            \n",
    "            if (label == target_labels):\n",
    "                scorecard[0] += 1\n",
    "            else:\n",
    "                scorecard[1] += 1    \n",
    "        print(scorecard)\n",
    "        print(\"Accuracy: \",scorecard[0]/(scorecard[0] + scorecard[1]))        "
   ]
  },
  {
   "cell_type": "code",
   "execution_count": 79,
   "metadata": {},
   "outputs": [],
   "source": [
    "\n",
    "outputNodes = 10\n",
    "inputNodes = 784\n",
    "hiddenNodes = 500\n",
    "hiddenNodes_two = 200\n",
    "\n",
    "model = model(inputNodes,hiddenNodes,hiddenNodes_two,outputNodes,0.2)\n"
   ]
  },
  {
   "cell_type": "code",
   "execution_count": 30,
   "metadata": {},
   "outputs": [],
   "source": [
    "data_file = open(r\"C:\\Users\\Alec\\Documents\\data\\mnist_train.csv\",'r')\n",
    "data_list_train = data_file.readlines()\n",
    "data_file.close()\n",
    "\n",
    "data_file = open(r\"C:\\Users\\Alec\\Documents\\data\\mnist_test.csv\",'r')\n",
    "data_list_test = data_file.readlines()\n",
    "data_file.close()\n"
   ]
  },
  {
   "cell_type": "code",
   "execution_count": null,
   "metadata": {},
   "outputs": [],
   "source": []
  },
  {
   "cell_type": "code",
   "execution_count": 80,
   "metadata": {},
   "outputs": [],
   "source": [
    "model.train(data_list_train,2)"
   ]
  },
  {
   "cell_type": "code",
   "execution_count": 82,
   "metadata": {},
   "outputs": [
    {
     "name": "stdout",
     "output_type": "stream",
     "text": [
      "[8585, 1415]\n",
      "Accuracy:  0.8585\n"
     ]
    }
   ],
   "source": [
    "model.score(data_list_test)"
   ]
  },
  {
   "cell_type": "code",
   "execution_count": null,
   "metadata": {},
   "outputs": [],
   "source": []
  },
  {
   "cell_type": "code",
   "execution_count": null,
   "metadata": {},
   "outputs": [],
   "source": []
  },
  {
   "cell_type": "code",
   "execution_count": null,
   "metadata": {},
   "outputs": [],
   "source": []
  },
  {
   "cell_type": "code",
   "execution_count": 110,
   "metadata": {},
   "outputs": [
    {
     "data": {
      "image/png": "[encoded data removed]",
      "text/plain": [
       "<Figure size 640x480 with 1 Axes>"
      ]
     },
     "metadata": {},
     "output_type": "display_data"
    },
    {
     "data": {
      "text/plain": [
       "9"
      ]
     },
     "execution_count": 110,
     "metadata": {},
     "output_type": "execute_result"
    }
   ],
   "source": [
    "#shows one image and shows what it is\n",
    "all__test_values = data_list_test[4].split(',')\n",
    "image_array = numpy.asfarray(all__test_values [1:]).reshape((28,28))\n",
    "plt.imshow(image_array,cmap='Greys',interpolation=None)\n",
    "plt.show()\n",
    "\n",
    "\n",
    "nn.query((numpy.asfarray(all__test_values[1:])/255.0 * 0.99)+0.1).argmax(axis=0)[0]  "
   ]
  },
  {
   "cell_type": "code",
   "execution_count": null,
   "metadata": {},
   "outputs": [],
   "source": []
  }
 ],
 "metadata": {
  "kernelspec": {
   "display_name": ".venv",
   "language": "python",
   "name": "python3"
  },
  "language_info": {
   "codemirror_mode": {
    "name": "ipython",
    "version": 3
   },
   "file_extension": ".py",
   "mimetype": "text/x-python",
   "name": "python",
   "nbconvert_exporter": "python",
   "pygments_lexer": "ipython3",
   "version": "3.11.8"
  }
 },
 "nbformat": 4,
 "nbformat_minor": 2
}
